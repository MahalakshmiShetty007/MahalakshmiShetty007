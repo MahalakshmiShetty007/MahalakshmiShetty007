{
  "nbformat": 4,
  "nbformat_minor": 0,
  "metadata": {
    "colab": {
      "name": "BlockChain1.ipynb",
      "provenance": [],
      "authorship_tag": "ABX9TyMLr6+0kzK+m0Ch+IVKWnNE",
      "include_colab_link": true
    },
    "kernelspec": {
      "name": "python3",
      "display_name": "Python 3"
    },
    "language_info": {
      "name": "python"
    }
  },
  "cells": [
    {
      "cell_type": "markdown",
      "metadata": {
        "id": "view-in-github",
        "colab_type": "text"
      },
      "source": [
        "<a href=\"https://colab.research.google.com/github/MahalakshmiShetty007/MahalakshmiShetty007/blob/main/BlockChain1.ipynb\" target=\"_parent\"><img src=\"https://colab.research.google.com/assets/colab-badge.svg\" alt=\"Open In Colab\"/></a>"
      ]
    },
    {
      "cell_type": "code",
      "execution_count": 3,
      "metadata": {
        "colab": {
          "base_uri": "https://localhost:8080/"
        },
        "id": "KTj8T0tbo4Le",
        "outputId": "bd362173-056d-463c-f1af-c2116d1a4e7d"
      },
      "outputs": [
        {
          "output_type": "stream",
          "name": "stdout",
          "text": [
            "Looking in indexes: https://pypi.org/simple, https://us-python.pkg.dev/colab-wheels/public/simple/\n",
            "Collecting hashlib\n",
            "  Using cached hashlib-20081119.zip (42 kB)\n",
            "\u001b[33mWARNING: Discarding https://files.pythonhosted.org/packages/74/bb/9003d081345e9f0451884146e9ea2cff6e4cc4deac9ffd4a9ee98b318a49/hashlib-20081119.zip#sha256=419de2fd10ae71ed9c6adcb55903f116abd1d8acc8c814dfd5f839b4d5013e38 (from https://pypi.org/simple/hashlib/). Command errored out with exit status 1: python setup.py egg_info Check the logs for full command output.\u001b[0m\n",
            "\u001b[31mERROR: Could not find a version that satisfies the requirement hashlib (from versions: 20081119)\u001b[0m\n",
            "\u001b[31mERROR: No matching distribution found for hashlib\u001b[0m\n"
          ]
        }
      ],
      "source": [
        "!pip install hashlib\n"
      ]
    },
    {
      "cell_type": "code",
      "source": [
        "#generates timestamps\n",
        "import datetime\n",
        "#contains hashing algorithms\n",
        "import hashlib"
      ],
      "metadata": {
        "id": "PCJYruDOqTpe"
      },
      "execution_count": 5,
      "outputs": []
    },
    {
      "cell_type": "code",
      "source": [
        "#defining the 'block' data structure\n",
        "class Block:\n",
        "    #each block has 7 attributes \n",
        "  \n",
        "    #1 number of the block\n",
        "    blockNo = 0\n",
        "    #2 what data is stored in this block?\n",
        "    data = None\n",
        "    #3 pointer to the next block\n",
        "    next = None\n",
        "    #4 The hash of this block (serves as a unique ID and verifies its integrity)\n",
        "    #A hash is a function that converts data into a number within a certain range. \n",
        "    hash = None\n",
        "    #5 A nonce is a number only used once  \n",
        "    nonce = 0\n",
        "    #6 store the hash (ID) of the previous block in the chain\n",
        "    previous_hash = 0x0\n",
        "    #7 timestamp \n",
        "    timestamp = datetime.datetime.now()\n",
        "\n",
        "    #We initialize a block by storing some data in it\n",
        "    def __init__(self, data):\n",
        "        self.data = data\n",
        "\n",
        "    #Function to compute 'hash' of a block\n",
        "    #a hash acts as both a unique identifier\n",
        "    #& verifies its integrity\n",
        "    #if someone changes the hash of a block\n",
        "    #every block that comes after it is changed \n",
        "    #this helps make a blockchain immutable\n",
        "    def hash(self):\n",
        "        #SHA-256 is a hashing algorithm that\n",
        "        # generates an almost-unique 256-bit signature that represents\n",
        "        # some piece of text\n",
        "        h = hashlib.sha256()\n",
        "        #the input to the SHA-256 algorithm\n",
        "        #will be a concatenated string\n",
        "        #consisting of 5 block attributes\n",
        "        #the nonce, data, previous hash, timestamp, & block #\n",
        "        h.update(\n",
        "        str(self.nonce).encode('utf-8') +\n",
        "        str(self.data).encode('utf-8') +\n",
        "        str(self.previous_hash).encode('utf-8') +\n",
        "        str(self.timestamp).encode('utf-8') +\n",
        "        str(self.blockNo).encode('utf-8')\n",
        "        )\n",
        "        #returns a hexademical string\n",
        "        return h.hexdigest()\n",
        "      \n",
        "        ## SHOW DEMO 2, change data \n",
        "\n",
        "    def __str__(self):\n",
        "        #print out the value of a block\n",
        "        return \"Block Hash: \" + str(self.hash()) + \"\\nBlockNo: \" + str(self.blockNo) + \"\\nBlock Data: \" + str(self.data) + \"\\nHashes: \" + str(self.nonce) + \"\\n--------------\""
      ],
      "metadata": {
        "id": "pEPIi4ERqGUA"
      },
      "execution_count": 6,
      "outputs": []
    },
    {
      "cell_type": "code",
      "source": [
        "#defining the blockchain datastructure\n",
        "#consists of 'blocks' linked together\n",
        "#to form a 'chain'. Thats why its called\n",
        "#'blockchain'\n",
        "class Blockchain:\n",
        "    \n",
        "    #mining difficulty\n",
        "    diff = 20\n",
        "    #2^32. This is the maximum number\n",
        "    #we can store in a 32-bit number\n",
        "    maxNonce = 2**32\n",
        "    #target hash, for mining\n",
        "    target = 2 ** (256-diff)\n",
        "\n",
        "    #generates the first block in the blockchain\n",
        "    #this is called the 'genesis block'\n",
        "    block = Block(\"Genesis\")\n",
        "    #sets it as the head of our blockchain\n",
        "    head = block\n",
        "\n",
        "    #adds a given block to the chain of blocks\n",
        "    #the block to be added is the only parameter\n",
        "    def add(self, block):\n",
        "        \n",
        "        #set the hash of a given block\n",
        "        #as our new block's previous hash\n",
        "        block.previous_hash = self.block.hash()\n",
        "        #set the block # of our new block\n",
        "        #as the given block's # + 1, since\n",
        "        #its next in the chain\n",
        "        block.blockNo = self.block.blockNo + 1\n",
        "\n",
        "        #set the next block equal to \n",
        "        #itself. This is the new head \n",
        "        #of the blockchain\n",
        "        self.block.next = block\n",
        "        self.block = self.block.next\n",
        "\n",
        "    #Determines whether or not we can add a given block to\n",
        "    #the blockchain\n",
        "    def mine(self, block):\n",
        "        #from 0 to 2^32 \n",
        "        for n in range(self.maxNonce):\n",
        "            #is the value of the given block's hash less than our target value?\n",
        "            if int(block.hash(), 16) <= self.target:\n",
        "                #if it is,\n",
        "                #add the block to the chain\n",
        "                self.add(block)\n",
        "                print(block)\n",
        "                break\n",
        "            else:\n",
        "                block.nonce += 1\n",
        "   \n",
        "    ## Show demo 3 ! Mine a block"
      ],
      "metadata": {
        "id": "JD2i8XO0qc-V"
      },
      "execution_count": 7,
      "outputs": []
    },
    {
      "cell_type": "code",
      "source": [
        "#initialize blockchain\n",
        "blockchain = Blockchain()\n",
        "\n",
        "#mine 10 blocks\n",
        "for n in range(10):\n",
        "    blockchain.mine(Block(\"Block \" + str(n+1)))\n",
        "    \n",
        "#print out each block in the blockchain\n",
        "while blockchain.head != None:\n",
        "    print(blockchain.head)\n",
        "    blockchain.head = blockchain.head.next"
      ],
      "metadata": {
        "colab": {
          "base_uri": "https://localhost:8080/"
        },
        "id": "014KSA9eqR_P",
        "outputId": "604f1a59-e197-4c3e-bfb6-7c48671385bb"
      },
      "execution_count": 8,
      "outputs": [
        {
          "output_type": "stream",
          "name": "stdout",
          "text": [
            "Block Hash: 696fe32f691a0adc2a86e7bd3b4ac222da13193269e72c7e2cd915c81e835391\n",
            "BlockNo: 1\n",
            "Block Data: Block 1\n",
            "Hashes: 38640\n",
            "--------------\n",
            "Block Hash: 86ee3bb4d8c24172374892cf4cb9c46cd34c0096fdcee9eb35f2b6cbd741d0b4\n",
            "BlockNo: 2\n",
            "Block Data: Block 2\n",
            "Hashes: 641476\n",
            "--------------\n",
            "Block Hash: f15825d4ed2fcb3856c4ec19825977ec9d5b588f3fc5acdb139965706c11507e\n",
            "BlockNo: 3\n",
            "Block Data: Block 3\n",
            "Hashes: 1346072\n",
            "--------------\n",
            "Block Hash: f6e09174c404b41cbe52cd5cad94089853b2664dae7b80614400a7b574789465\n",
            "BlockNo: 4\n",
            "Block Data: Block 4\n",
            "Hashes: 2752937\n",
            "--------------\n",
            "Block Hash: 6b328db5d81cb5be7bb05c86d1cd783c85fc13c9d523abe82012095a1e228dcf\n",
            "BlockNo: 5\n",
            "Block Data: Block 5\n",
            "Hashes: 287184\n",
            "--------------\n",
            "Block Hash: d9494a847cae881d428c6d58073e4e52ca8a98314c13b9eb9afeb91cca710376\n",
            "BlockNo: 6\n",
            "Block Data: Block 6\n",
            "Hashes: 3531984\n",
            "--------------\n",
            "Block Hash: 6121124dcca889d56398ce3eb8c50f1549a7643da98c2c6f3711306bf2cb5c1b\n",
            "BlockNo: 7\n",
            "Block Data: Block 7\n",
            "Hashes: 440137\n",
            "--------------\n",
            "Block Hash: e40ab86c0a0cd02ead5d3abd2f53e6f7d7ef6f4d379fc19ab580f8eb6e7ca0b2\n",
            "BlockNo: 8\n",
            "Block Data: Block 8\n",
            "Hashes: 2669390\n",
            "--------------\n",
            "Block Hash: fd150e21c9b134c0a89192d90b55aee078d1b76409c20c2d9622157c2fb51ded\n",
            "BlockNo: 9\n",
            "Block Data: Block 9\n",
            "Hashes: 847345\n",
            "--------------\n",
            "Block Hash: 177da63b4bc0d14fe632cb400bd9f303467ef17b204a709589c405370f1145c9\n",
            "BlockNo: 10\n",
            "Block Data: Block 10\n",
            "Hashes: 477395\n",
            "--------------\n",
            "Block Hash: fde48b4fb8b1af7922f12c456ed4b28cd4231b32f2f8c0fbd4f7b0c003779f83\n",
            "BlockNo: 0\n",
            "Block Data: Genesis\n",
            "Hashes: 0\n",
            "--------------\n",
            "Block Hash: 696fe32f691a0adc2a86e7bd3b4ac222da13193269e72c7e2cd915c81e835391\n",
            "BlockNo: 1\n",
            "Block Data: Block 1\n",
            "Hashes: 38640\n",
            "--------------\n",
            "Block Hash: 86ee3bb4d8c24172374892cf4cb9c46cd34c0096fdcee9eb35f2b6cbd741d0b4\n",
            "BlockNo: 2\n",
            "Block Data: Block 2\n",
            "Hashes: 641476\n",
            "--------------\n",
            "Block Hash: f15825d4ed2fcb3856c4ec19825977ec9d5b588f3fc5acdb139965706c11507e\n",
            "BlockNo: 3\n",
            "Block Data: Block 3\n",
            "Hashes: 1346072\n",
            "--------------\n",
            "Block Hash: f6e09174c404b41cbe52cd5cad94089853b2664dae7b80614400a7b574789465\n",
            "BlockNo: 4\n",
            "Block Data: Block 4\n",
            "Hashes: 2752937\n",
            "--------------\n",
            "Block Hash: 6b328db5d81cb5be7bb05c86d1cd783c85fc13c9d523abe82012095a1e228dcf\n",
            "BlockNo: 5\n",
            "Block Data: Block 5\n",
            "Hashes: 287184\n",
            "--------------\n",
            "Block Hash: d9494a847cae881d428c6d58073e4e52ca8a98314c13b9eb9afeb91cca710376\n",
            "BlockNo: 6\n",
            "Block Data: Block 6\n",
            "Hashes: 3531984\n",
            "--------------\n",
            "Block Hash: 6121124dcca889d56398ce3eb8c50f1549a7643da98c2c6f3711306bf2cb5c1b\n",
            "BlockNo: 7\n",
            "Block Data: Block 7\n",
            "Hashes: 440137\n",
            "--------------\n",
            "Block Hash: e40ab86c0a0cd02ead5d3abd2f53e6f7d7ef6f4d379fc19ab580f8eb6e7ca0b2\n",
            "BlockNo: 8\n",
            "Block Data: Block 8\n",
            "Hashes: 2669390\n",
            "--------------\n",
            "Block Hash: fd150e21c9b134c0a89192d90b55aee078d1b76409c20c2d9622157c2fb51ded\n",
            "BlockNo: 9\n",
            "Block Data: Block 9\n",
            "Hashes: 847345\n",
            "--------------\n",
            "Block Hash: 177da63b4bc0d14fe632cb400bd9f303467ef17b204a709589c405370f1145c9\n",
            "BlockNo: 10\n",
            "Block Data: Block 10\n",
            "Hashes: 477395\n",
            "--------------\n"
          ]
        }
      ]
    },
    {
      "cell_type": "code",
      "source": [
        "!pip install datetime2"
      ],
      "metadata": {
        "colab": {
          "base_uri": "https://localhost:8080/"
        },
        "id": "Y7JhIZolpM73",
        "outputId": "e2cee150-7dbc-49aa-a5fa-a2ebb784058c"
      },
      "execution_count": 2,
      "outputs": [
        {
          "output_type": "stream",
          "name": "stdout",
          "text": [
            "Looking in indexes: https://pypi.org/simple, https://us-python.pkg.dev/colab-wheels/public/simple/\n",
            "Requirement already satisfied: datetime2 in /usr/local/lib/python3.7/dist-packages (0.9.2)\n"
          ]
        }
      ]
    }
  ]
}